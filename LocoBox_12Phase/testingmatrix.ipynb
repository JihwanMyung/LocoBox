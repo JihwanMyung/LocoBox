{
 "cells": [
  {
   "cell_type": "code",
   "execution_count": 1,
   "metadata": {},
   "outputs": [],
   "source": [
    "from faulthandler import disable\n",
    "import serial   # For Serial communication\n",
    "import time     # Required for using delay functions\n",
    "import datetime # For date-time setting and timedelta calculations\n",
    "import platform\n",
    "import glob\n",
    "import tkinter as tk\n",
    "from tkinter import DISABLED, Tk, Frame, Canvas, Scrollbar, sys, Label, SUNKEN, BOTH, W, X, Y, Menu, IntVar, VERTICAL, HORIZONTAL, BOTTOM, Spinbox, Entry, ttk, messagebox, Button, StringVar, LEFT, RIGHT, Radiobutton\n",
    "#from tkinter import * #import INIT set of tkinter library for GUI\n",
    "\n",
    "from tkinter.filedialog import askopenfilename\n",
    "import json\n",
    "try:\n",
    "    from tkinter import filedialog\n",
    "except ImportError:\n",
    "    fileDialog = tk.filedialog\n",
    "import threading # To run Arduino loop and tkinter loop alongside\n",
    "import serial.tools.list_ports # For identifying Arduino port\n",
    "from BoxSchedule import BoxSchedule, PhaseSchedule, getDarkLightValue, inverseDarkLightValue\n",
    "import numpy as np\n",
    "from scipy import io"
   ]
  },
  {
   "cell_type": "code",
   "execution_count": 2,
   "metadata": {},
   "outputs": [],
   "source": [
    "value_mat = np.arange(0, 660, 1)\n",
    "input_mat = np.arange(0, 600, 1)"
   ]
  },
  {
   "cell_type": "code",
   "execution_count": null,
   "metadata": {},
   "outputs": [],
   "source": [
    "value_mat = value_mat.reshape(5,12,11)\n",
    "input_mat = input_mat.reshape(5,12,10)"
   ]
  }
 ],
 "metadata": {
  "kernelspec": {
   "display_name": "Python 3.7.13 ('locobox')",
   "language": "python",
   "name": "python3"
  },
  "language_info": {
   "codemirror_mode": {
    "name": "ipython",
    "version": 3
   },
   "file_extension": ".py",
   "mimetype": "text/x-python",
   "name": "python",
   "nbconvert_exporter": "python",
   "pygments_lexer": "ipython3",
   "version": "3.7.13"
  },
  "orig_nbformat": 4,
  "vscode": {
   "interpreter": {
    "hash": "f8c55852af0ffc06e79550b42022e8dacb21984095fd1499f08aaf4471aeef68"
   }
  }
 },
 "nbformat": 4,
 "nbformat_minor": 2
}
