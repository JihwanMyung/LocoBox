{
 "cells": [
  {
   "cell_type": "code",
   "execution_count": 1,
   "metadata": {},
   "outputs": [],
   "source": [
    "import csv\n",
    "import numpy as np\n",
    "import matplotlib.pylab as plt\n",
    "import matplotlib\n",
    "from datetime import datetime\n",
    "import pandas as pd\n",
    "import matplotlib.dates as md\n",
    "import termplotlib as tpl\n",
    "from matplotlib import style\n",
    "from matplotlib.colors import ListedColormap\n",
    "from matplotlib.pyplot import figure\n",
    "from matplotlib.widgets import Slider\n",
    "\n",
    "\n",
    "#matplotlib.use('module://drawilleplot')"
   ]
  },
  {
   "cell_type": "code",
   "execution_count": 33,
   "metadata": {},
   "outputs": [
    {
     "name": "stdout",
     "output_type": "stream",
     "text": [
      "    1 +---------------------------------------+\n",
      "  0.8 |    **     **                          |\n",
      "  0.6 |   *         **           data ******* |\n",
      "  0.4 | **                                    |\n",
      "  0.2 |*              **                      |\n",
      "    0 |                 **                    |\n",
      "      |                                   *   |\n",
      " -0.2 |                   **            **    |\n",
      " -0.4 |                     **         *      |\n",
      " -0.6 |                              **       |\n",
      " -0.8 |                       **** **         |\n",
      "   -1 +---------------------------------------+\n",
      "      0     1    2     3     4     5    6     7\n"
     ]
    }
   ],
   "source": [
    "x = np.linspace(0, 2 * np.pi, 10)\n",
    "y = np.sin(x)\n",
    "\n",
    "fig = tpl.figure()\n",
    "fig.plot(x, y, label=\"data\", width=50, height=15)\n",
    "fig.show()"
   ]
  },
  {
   "cell_type": "code",
   "execution_count": 47,
   "metadata": {},
   "outputs": [
    {
     "name": "stdout",
     "output_type": "stream",
     "text": [
      "  50 +----------------------------------------+\n",
      "     | *                                      |\n",
      "  40 | *                         PIR1 ******* |\n",
      "     | *                                      |\n",
      "  30 | *                                 *    |\n",
      "     |**   *  *                *         *    |\n",
      "     |***  ** *            *   *         *    |\n",
      "  20 |**** ** *  **   *    * * *       * *    |\n",
      "     |**** ***** *** **    * * *     *** *    |\n",
      "  10 |**** ************  * *** ***   *** *    |\n",
      "     |**** ************ ** ******* ********   |\n",
      "   0 +----------------------------------------+\n",
      "     0     1000   2000   3000  4000   5000   6000\n"
     ]
    }
   ],
   "source": [
    "\n",
    "\n",
    "\n",
    "\n",
    "\n",
    "\n",
    "df = pd.read_table('/home/zow/LocoBox/actogram/test3.txt', sep='\\s+', skiprows=12, index_col=None)\n",
    "# print(df)\n",
    "# df[\"dateindex\"] = pd.to_datetime(df['MO/DY/YEAR']+' ' + df['HH:MM:SS'],\n",
    "#                         format=\"%m/%d/%Y %H:%M:%S\")\n",
    "# # df['PIR01'][:i].plot(ax = ax)\n",
    "# xticks = pd.date_range(start=min(df[\"dateindex\"]),\n",
    "#                   end=max(df[\"dateindex\"]),\n",
    "#                   periods=6)\n",
    "\n",
    "x = df.index\n",
    "y = df['PIR01']\n",
    "\n",
    "fig = tpl.figure()\n",
    "\n",
    "fig.plot(x, y, ylim =(0,50), label=\"PIR1\", width=50, height=15)\n",
    "ascii_p = fig.get_string()\n",
    "fig.show()\n"
   ]
  },
  {
   "cell_type": "code",
   "execution_count": 43,
   "metadata": {},
   "outputs": [],
   "source": [
    "log_mat =np.empty((120,12), dtype=\"<U10\")\n",
    "    "
   ]
  },
  {
   "cell_type": "code",
   "execution_count": 2,
   "metadata": {},
   "outputs": [],
   "source": [
    "def import_data(filename, n_wheels):\n",
    "   \n",
    "    reader = pd.read_csv(filename, sep=' ')\n",
    "    #     rows = [[r[0]] + list(map(int, r[1:])) for r in reader]\n",
    "\n",
    "    # data = np.zeros((len(rows), n_wheels))\n",
    "    # for i, row in enumerate(rows):\n",
    "    #     data[i, :] = row[1:1 + n_wheels]\n",
    "    # return data.T, [r[0] for r in rows]\n",
    "    return reader \n",
    "\n",
    "\n",
    "def plot_actogram(data,  animals):\n",
    "    \n",
    "\n",
    "    N, T = data.shape\n",
    "    #data /= np.max(data)\n",
    "    times = data['times']#[datetime.strptime(t, '%m/%d/%y %H:%M') for t in times]\n",
    "    times = matplotlib.dates.date2num(times)\n",
    "\n",
    "    fig = plt.figure()\n",
    "    ax = fig.add_subplot(1, 1, 1)\n",
    "    for i in range(N):\n",
    "        d = data[i, :] != 0\n",
    "        plt.plot_date(times[d], data[i, d] + i, '.', markersize=2, xdate=True)\n",
    "\n",
    "    plt.grid(which='both')\n",
    "\n",
    "    major_ticks = np.arange(8) + .25\n",
    "    minor_ticks = np.arange(32) * .25\n",
    "    ax.set_yticks(major_ticks)\n",
    "    ax.set_yticks(minor_ticks, minor=True)\n",
    "    ax.set_yticklabels(animals)\n",
    "    ax.grid(which='minor', alpha=0.4)\n",
    "\n",
    "    vals = ax.get_xticks()\n",
    "    minor = []\n",
    "    for i, val in enumerate(vals):\n",
    "        for t in range(4):\n",
    "            minor.append(val + t / 4.)\n",
    "    ax.set_xticks(minor, minor=True)\n",
    "    ax.grid(which='minor', alpha=0.4)\n",
    "\n",
    "    plt.tight_layout()\n",
    "    plt.show()\n"
   ]
  },
  {
   "cell_type": "code",
   "execution_count": 3,
   "metadata": {},
   "outputs": [
    {
     "name": "stderr",
     "output_type": "stream",
     "text": [
      "/home/zow/anaconda3/envs/locobox/lib/python3.7/site-packages/pandas/util/_decorators.py:311: ParserWarning: Length of header or names does not match length of data. This leads to a loss of data with index_col=False.\n",
      "  return func(*args, **kwargs)\n"
     ]
    }
   ],
   "source": [
    "filename = '/home/zow/LocoBox/Prev_locobox_data/BOX1-5-20220719.txt'\n",
    "headers = ['HH:MM:SS', 'MO/DY/YEAR', 'LED01', 'PIR01', 'LED02', 'PIR02', 'LED03', 'PIR03', 'LED04', 'PIR04', 'LED05', 'PIR05']\n",
    "\n",
    "reader = pd.read_csv(filename,index_col=False, header= 0, sep=' ',dtype = {'HH:MM:SS':str,  'MO/DY/YEAR': str,  'LED01': int, 'PIR01': int,  'LED02': int, 'PIR02': int, 'LED03': int,  'PIR03':int,  'LED04':int,  'PIR04':int,'LED05':int,  'PIR05': int}, parse_dates= ['HH:MM:SS','MO/DY/YEAR' ] )\n"
   ]
  },
  {
   "cell_type": "code",
   "execution_count": 53,
   "metadata": {},
   "outputs": [
    {
     "name": "stderr",
     "output_type": "stream",
     "text": [
      "/home/zow/.local/lib/python3.6/site-packages/ipykernel_launcher.py:4: SettingWithCopyWarning: \n",
      "A value is trying to be set on a copy of a slice from a DataFrame\n",
      "\n",
      "See the caveats in the documentation: https://pandas.pydata.org/pandas-docs/stable/user_guide/indexing.html#returning-a-view-versus-a-copy\n",
      "  after removing the cwd from sys.path.\n"
     ]
    }
   ],
   "source": [
    "#reader[\"times\"] = reader[[ 'MO/DY/YEAR','HH:MM:SS']].apply(lambda x: datetime.combine(x), axis=1)\n",
    "\n",
    "for index, row in reader.iterrows():\n",
    "    reader[\"times\"][index] = datetime.combine(datetime.date(row['MO/DY/YEAR']), datetime.time(row['HH:MM:SS']))\n",
    "\n"
   ]
  },
  {
   "cell_type": "code",
   "execution_count": null,
   "metadata": {},
   "outputs": [],
   "source": []
  },
  {
   "cell_type": "code",
   "execution_count": 60,
   "metadata": {},
   "outputs": [
    {
     "ename": "TypeError",
     "evalue": "'(0, slice(None, None, None))' is an invalid key",
     "output_type": "error",
     "traceback": [
      "\u001b[0;31m---------------------------------------------------------------------------\u001b[0m",
      "\u001b[0;31mTypeError\u001b[0m                                 Traceback (most recent call last)",
      "\u001b[0;32m<ipython-input-60-41aef81a4fee>\u001b[0m in \u001b[0;36m<module>\u001b[0;34m\u001b[0m\n\u001b[0;32m----> 1\u001b[0;31m \u001b[0mplot_actogram\u001b[0m\u001b[0;34m(\u001b[0m\u001b[0mreader\u001b[0m\u001b[0;34m,\u001b[0m \u001b[0;34m[\u001b[0m\u001b[0;36m1\u001b[0m\u001b[0;34m,\u001b[0m\u001b[0;36m2\u001b[0m\u001b[0;34m,\u001b[0m\u001b[0;36m3\u001b[0m\u001b[0;34m,\u001b[0m\u001b[0;36m4\u001b[0m\u001b[0;34m,\u001b[0m\u001b[0;36m5\u001b[0m\u001b[0;34m]\u001b[0m\u001b[0;34m)\u001b[0m\u001b[0;34m\u001b[0m\u001b[0;34m\u001b[0m\u001b[0m\n\u001b[0m",
      "\u001b[0;32m<ipython-input-59-eb83bfad0e00>\u001b[0m in \u001b[0;36mplot_actogram\u001b[0;34m(data, animals)\u001b[0m\n\u001b[1;32m     22\u001b[0m     \u001b[0max\u001b[0m \u001b[0;34m=\u001b[0m \u001b[0mfig\u001b[0m\u001b[0;34m.\u001b[0m\u001b[0madd_subplot\u001b[0m\u001b[0;34m(\u001b[0m\u001b[0;36m1\u001b[0m\u001b[0;34m,\u001b[0m \u001b[0;36m1\u001b[0m\u001b[0;34m,\u001b[0m \u001b[0;36m1\u001b[0m\u001b[0;34m)\u001b[0m\u001b[0;34m\u001b[0m\u001b[0;34m\u001b[0m\u001b[0m\n\u001b[1;32m     23\u001b[0m     \u001b[0;32mfor\u001b[0m \u001b[0mi\u001b[0m \u001b[0;32min\u001b[0m \u001b[0mrange\u001b[0m\u001b[0;34m(\u001b[0m\u001b[0mN\u001b[0m\u001b[0;34m)\u001b[0m\u001b[0;34m:\u001b[0m\u001b[0;34m\u001b[0m\u001b[0;34m\u001b[0m\u001b[0m\n\u001b[0;32m---> 24\u001b[0;31m         \u001b[0md\u001b[0m \u001b[0;34m=\u001b[0m \u001b[0mdata\u001b[0m\u001b[0;34m[\u001b[0m\u001b[0mi\u001b[0m\u001b[0;34m,\u001b[0m \u001b[0;34m:\u001b[0m\u001b[0;34m]\u001b[0m \u001b[0;34m!=\u001b[0m \u001b[0;36m0\u001b[0m\u001b[0;34m\u001b[0m\u001b[0;34m\u001b[0m\u001b[0m\n\u001b[0m\u001b[1;32m     25\u001b[0m         \u001b[0mplt\u001b[0m\u001b[0;34m.\u001b[0m\u001b[0mplot_date\u001b[0m\u001b[0;34m(\u001b[0m\u001b[0mtimes\u001b[0m\u001b[0;34m[\u001b[0m\u001b[0md\u001b[0m\u001b[0;34m]\u001b[0m\u001b[0;34m,\u001b[0m \u001b[0mdata\u001b[0m\u001b[0;34m[\u001b[0m\u001b[0mi\u001b[0m\u001b[0;34m,\u001b[0m \u001b[0md\u001b[0m\u001b[0;34m]\u001b[0m \u001b[0;34m+\u001b[0m \u001b[0mi\u001b[0m\u001b[0;34m,\u001b[0m \u001b[0;34m'.'\u001b[0m\u001b[0;34m,\u001b[0m \u001b[0mmarkersize\u001b[0m\u001b[0;34m=\u001b[0m\u001b[0;36m2\u001b[0m\u001b[0;34m,\u001b[0m \u001b[0mxdate\u001b[0m\u001b[0;34m=\u001b[0m\u001b[0;32mTrue\u001b[0m\u001b[0;34m)\u001b[0m\u001b[0;34m\u001b[0m\u001b[0;34m\u001b[0m\u001b[0m\n\u001b[1;32m     26\u001b[0m \u001b[0;34m\u001b[0m\u001b[0m\n",
      "\u001b[0;32m~/.local/lib/python3.6/site-packages/pandas/core/frame.py\u001b[0m in \u001b[0;36m__getitem__\u001b[0;34m(self, key)\u001b[0m\n\u001b[1;32m   2904\u001b[0m             \u001b[0;32mif\u001b[0m \u001b[0mself\u001b[0m\u001b[0;34m.\u001b[0m\u001b[0mcolumns\u001b[0m\u001b[0;34m.\u001b[0m\u001b[0mnlevels\u001b[0m \u001b[0;34m>\u001b[0m \u001b[0;36m1\u001b[0m\u001b[0;34m:\u001b[0m\u001b[0;34m\u001b[0m\u001b[0;34m\u001b[0m\u001b[0m\n\u001b[1;32m   2905\u001b[0m                 \u001b[0;32mreturn\u001b[0m \u001b[0mself\u001b[0m\u001b[0;34m.\u001b[0m\u001b[0m_getitem_multilevel\u001b[0m\u001b[0;34m(\u001b[0m\u001b[0mkey\u001b[0m\u001b[0;34m)\u001b[0m\u001b[0;34m\u001b[0m\u001b[0;34m\u001b[0m\u001b[0m\n\u001b[0;32m-> 2906\u001b[0;31m             \u001b[0mindexer\u001b[0m \u001b[0;34m=\u001b[0m \u001b[0mself\u001b[0m\u001b[0;34m.\u001b[0m\u001b[0mcolumns\u001b[0m\u001b[0;34m.\u001b[0m\u001b[0mget_loc\u001b[0m\u001b[0;34m(\u001b[0m\u001b[0mkey\u001b[0m\u001b[0;34m)\u001b[0m\u001b[0;34m\u001b[0m\u001b[0;34m\u001b[0m\u001b[0m\n\u001b[0m\u001b[1;32m   2907\u001b[0m             \u001b[0;32mif\u001b[0m \u001b[0mis_integer\u001b[0m\u001b[0;34m(\u001b[0m\u001b[0mindexer\u001b[0m\u001b[0;34m)\u001b[0m\u001b[0;34m:\u001b[0m\u001b[0;34m\u001b[0m\u001b[0;34m\u001b[0m\u001b[0m\n\u001b[1;32m   2908\u001b[0m                 \u001b[0mindexer\u001b[0m \u001b[0;34m=\u001b[0m \u001b[0;34m[\u001b[0m\u001b[0mindexer\u001b[0m\u001b[0;34m]\u001b[0m\u001b[0;34m\u001b[0m\u001b[0;34m\u001b[0m\u001b[0m\n",
      "\u001b[0;32m~/.local/lib/python3.6/site-packages/pandas/core/indexes/base.py\u001b[0m in \u001b[0;36mget_loc\u001b[0;34m(self, key, method, tolerance)\u001b[0m\n\u001b[1;32m   2896\u001b[0m             \u001b[0mcasted_key\u001b[0m \u001b[0;34m=\u001b[0m \u001b[0mself\u001b[0m\u001b[0;34m.\u001b[0m\u001b[0m_maybe_cast_indexer\u001b[0m\u001b[0;34m(\u001b[0m\u001b[0mkey\u001b[0m\u001b[0;34m)\u001b[0m\u001b[0;34m\u001b[0m\u001b[0;34m\u001b[0m\u001b[0m\n\u001b[1;32m   2897\u001b[0m             \u001b[0;32mtry\u001b[0m\u001b[0;34m:\u001b[0m\u001b[0;34m\u001b[0m\u001b[0;34m\u001b[0m\u001b[0m\n\u001b[0;32m-> 2898\u001b[0;31m                 \u001b[0;32mreturn\u001b[0m \u001b[0mself\u001b[0m\u001b[0;34m.\u001b[0m\u001b[0m_engine\u001b[0m\u001b[0;34m.\u001b[0m\u001b[0mget_loc\u001b[0m\u001b[0;34m(\u001b[0m\u001b[0mcasted_key\u001b[0m\u001b[0;34m)\u001b[0m\u001b[0;34m\u001b[0m\u001b[0;34m\u001b[0m\u001b[0m\n\u001b[0m\u001b[1;32m   2899\u001b[0m             \u001b[0;32mexcept\u001b[0m \u001b[0mKeyError\u001b[0m \u001b[0;32mas\u001b[0m \u001b[0merr\u001b[0m\u001b[0;34m:\u001b[0m\u001b[0;34m\u001b[0m\u001b[0;34m\u001b[0m\u001b[0m\n\u001b[1;32m   2900\u001b[0m                 \u001b[0;32mraise\u001b[0m \u001b[0mKeyError\u001b[0m\u001b[0;34m(\u001b[0m\u001b[0mkey\u001b[0m\u001b[0;34m)\u001b[0m \u001b[0;32mfrom\u001b[0m \u001b[0merr\u001b[0m\u001b[0;34m\u001b[0m\u001b[0;34m\u001b[0m\u001b[0m\n",
      "\u001b[0;32mpandas/_libs/index.pyx\u001b[0m in \u001b[0;36mpandas._libs.index.IndexEngine.get_loc\u001b[0;34m()\u001b[0m\n",
      "\u001b[0;32mpandas/_libs/index.pyx\u001b[0m in \u001b[0;36mpandas._libs.index.IndexEngine.get_loc\u001b[0;34m()\u001b[0m\n",
      "\u001b[0;31mTypeError\u001b[0m: '(0, slice(None, None, None))' is an invalid key"
     ]
    },
    {
     "data": {
      "image/png": "[encoded data removed]",
      "text/plain": [
       "<Figure size 432x288 with 1 Axes>"
      ]
     },
     "metadata": {
      "needs_background": "light"
     },
     "output_type": "display_data"
    }
   ],
   "source": [
    "plot_actogram(reader, [1,2,3,4,5])"
   ]
  },
  {
   "cell_type": "code",
   "execution_count": 9,
   "metadata": {},
   "outputs": [
    {
     "ename": "ParserError",
     "evalue": "Error tokenizing data. C error: Expected 2 fields in line 3, saw 12\n",
     "output_type": "error",
     "traceback": [
      "\u001b[0;31m---------------------------------------------------------------------------\u001b[0m",
      "\u001b[0;31mParserError\u001b[0m                               Traceback (most recent call last)",
      "\u001b[0;32m<ipython-input-9-d9c494503652>\u001b[0m in \u001b[0;36m<module>\u001b[0;34m\u001b[0m\n\u001b[1;32m      3\u001b[0m     \u001b[0manimals\u001b[0m \u001b[0;34m=\u001b[0m \u001b[0;34m[\u001b[0m\u001b[0;34m'1730'\u001b[0m\u001b[0;34m,\u001b[0m \u001b[0;34m'1734'\u001b[0m\u001b[0;34m,\u001b[0m \u001b[0;34m'1736'\u001b[0m\u001b[0;34m,\u001b[0m \u001b[0;34m'1743'\u001b[0m\u001b[0;34m,\u001b[0m \u001b[0;34m'1744'\u001b[0m\u001b[0;34m,\u001b[0m \u001b[0;34m'1745'\u001b[0m\u001b[0;34m,\u001b[0m \u001b[0;34m'1746'\u001b[0m\u001b[0;34m,\u001b[0m \u001b[0;34m'1747'\u001b[0m\u001b[0;34m]\u001b[0m\u001b[0;34m\u001b[0m\u001b[0;34m\u001b[0m\u001b[0m\n\u001b[1;32m      4\u001b[0m     \u001b[0mfilename\u001b[0m \u001b[0;34m=\u001b[0m \u001b[0;34m'/home/zow/LocoBox/Prev_locobox_data/BOX1-5-20220719.txt'\u001b[0m\u001b[0;34m\u001b[0m\u001b[0;34m\u001b[0m\u001b[0m\n\u001b[0;32m----> 5\u001b[0;31m     \u001b[0mdata\u001b[0m\u001b[0;34m,\u001b[0m \u001b[0mt\u001b[0m \u001b[0;34m=\u001b[0m \u001b[0mimport_data\u001b[0m\u001b[0;34m(\u001b[0m\u001b[0mfilename\u001b[0m\u001b[0;34m,\u001b[0m \u001b[0mn_wheels\u001b[0m\u001b[0;34m)\u001b[0m\u001b[0;34m\u001b[0m\u001b[0;34m\u001b[0m\u001b[0m\n\u001b[0m\u001b[1;32m      6\u001b[0m     \u001b[0mplot_actogram\u001b[0m\u001b[0;34m(\u001b[0m\u001b[0mdata\u001b[0m\u001b[0;34m,\u001b[0m \u001b[0mt\u001b[0m\u001b[0;34m,\u001b[0m \u001b[0mn_wheels\u001b[0m\u001b[0;34m,\u001b[0m \u001b[0manimals\u001b[0m\u001b[0;34m)\u001b[0m\u001b[0;34m\u001b[0m\u001b[0;34m\u001b[0m\u001b[0m\n",
      "\u001b[0;32m<ipython-input-8-836c0cfbce1d>\u001b[0m in \u001b[0;36mimport_data\u001b[0;34m(filename, n_wheels)\u001b[0m\n\u001b[1;32m      1\u001b[0m \u001b[0;32mdef\u001b[0m \u001b[0mimport_data\u001b[0m\u001b[0;34m(\u001b[0m\u001b[0mfilename\u001b[0m\u001b[0;34m,\u001b[0m \u001b[0mn_wheels\u001b[0m\u001b[0;34m)\u001b[0m\u001b[0;34m:\u001b[0m\u001b[0;34m\u001b[0m\u001b[0;34m\u001b[0m\u001b[0m\n\u001b[1;32m      2\u001b[0m     \u001b[0;32mwith\u001b[0m \u001b[0mopen\u001b[0m\u001b[0;34m(\u001b[0m\u001b[0mfilename\u001b[0m\u001b[0;34m)\u001b[0m \u001b[0;32mas\u001b[0m \u001b[0mfh\u001b[0m\u001b[0;34m:\u001b[0m\u001b[0;34m\u001b[0m\u001b[0;34m\u001b[0m\u001b[0m\n\u001b[0;32m----> 3\u001b[0;31m         \u001b[0mreader\u001b[0m \u001b[0;34m=\u001b[0m \u001b[0mpd\u001b[0m\u001b[0;34m.\u001b[0m\u001b[0mread_csv\u001b[0m\u001b[0;34m(\u001b[0m\u001b[0mfh\u001b[0m\u001b[0;34m,\u001b[0m \u001b[0msep\u001b[0m\u001b[0;34m=\u001b[0m\u001b[0;34m' '\u001b[0m\u001b[0;34m)\u001b[0m\u001b[0;34m\u001b[0m\u001b[0;34m\u001b[0m\u001b[0m\n\u001b[0m\u001b[1;32m      4\u001b[0m         \u001b[0mrows\u001b[0m \u001b[0;34m=\u001b[0m \u001b[0;34m[\u001b[0m\u001b[0;34m[\u001b[0m\u001b[0mr\u001b[0m\u001b[0;34m[\u001b[0m\u001b[0;36m0\u001b[0m\u001b[0;34m]\u001b[0m\u001b[0;34m]\u001b[0m \u001b[0;34m+\u001b[0m \u001b[0mlist\u001b[0m\u001b[0;34m(\u001b[0m\u001b[0mmap\u001b[0m\u001b[0;34m(\u001b[0m\u001b[0mint\u001b[0m\u001b[0;34m,\u001b[0m \u001b[0mr\u001b[0m\u001b[0;34m[\u001b[0m\u001b[0;36m1\u001b[0m\u001b[0;34m:\u001b[0m\u001b[0;34m]\u001b[0m\u001b[0;34m)\u001b[0m\u001b[0;34m)\u001b[0m \u001b[0;32mfor\u001b[0m \u001b[0mr\u001b[0m \u001b[0;32min\u001b[0m \u001b[0mreader\u001b[0m\u001b[0;34m]\u001b[0m\u001b[0;34m\u001b[0m\u001b[0;34m\u001b[0m\u001b[0m\n\u001b[1;32m      5\u001b[0m \u001b[0;34m\u001b[0m\u001b[0m\n",
      "\u001b[0;32m~/.local/lib/python3.6/site-packages/pandas/io/parsers.py\u001b[0m in \u001b[0;36mread_csv\u001b[0;34m(filepath_or_buffer, sep, delimiter, header, names, index_col, usecols, squeeze, prefix, mangle_dupe_cols, dtype, engine, converters, true_values, false_values, skipinitialspace, skiprows, skipfooter, nrows, na_values, keep_default_na, na_filter, verbose, skip_blank_lines, parse_dates, infer_datetime_format, keep_date_col, date_parser, dayfirst, cache_dates, iterator, chunksize, compression, thousands, decimal, lineterminator, quotechar, quoting, doublequote, escapechar, comment, encoding, dialect, error_bad_lines, warn_bad_lines, delim_whitespace, low_memory, memory_map, float_precision)\u001b[0m\n\u001b[1;32m    686\u001b[0m     )\n\u001b[1;32m    687\u001b[0m \u001b[0;34m\u001b[0m\u001b[0m\n\u001b[0;32m--> 688\u001b[0;31m     \u001b[0;32mreturn\u001b[0m \u001b[0m_read\u001b[0m\u001b[0;34m(\u001b[0m\u001b[0mfilepath_or_buffer\u001b[0m\u001b[0;34m,\u001b[0m \u001b[0mkwds\u001b[0m\u001b[0;34m)\u001b[0m\u001b[0;34m\u001b[0m\u001b[0;34m\u001b[0m\u001b[0m\n\u001b[0m\u001b[1;32m    689\u001b[0m \u001b[0;34m\u001b[0m\u001b[0m\n\u001b[1;32m    690\u001b[0m \u001b[0;34m\u001b[0m\u001b[0m\n",
      "\u001b[0;32m~/.local/lib/python3.6/site-packages/pandas/io/parsers.py\u001b[0m in \u001b[0;36m_read\u001b[0;34m(filepath_or_buffer, kwds)\u001b[0m\n\u001b[1;32m    458\u001b[0m \u001b[0;34m\u001b[0m\u001b[0m\n\u001b[1;32m    459\u001b[0m     \u001b[0;32mtry\u001b[0m\u001b[0;34m:\u001b[0m\u001b[0;34m\u001b[0m\u001b[0;34m\u001b[0m\u001b[0m\n\u001b[0;32m--> 460\u001b[0;31m         \u001b[0mdata\u001b[0m \u001b[0;34m=\u001b[0m \u001b[0mparser\u001b[0m\u001b[0;34m.\u001b[0m\u001b[0mread\u001b[0m\u001b[0;34m(\u001b[0m\u001b[0mnrows\u001b[0m\u001b[0;34m)\u001b[0m\u001b[0;34m\u001b[0m\u001b[0;34m\u001b[0m\u001b[0m\n\u001b[0m\u001b[1;32m    461\u001b[0m     \u001b[0;32mfinally\u001b[0m\u001b[0;34m:\u001b[0m\u001b[0;34m\u001b[0m\u001b[0;34m\u001b[0m\u001b[0m\n\u001b[1;32m    462\u001b[0m         \u001b[0mparser\u001b[0m\u001b[0;34m.\u001b[0m\u001b[0mclose\u001b[0m\u001b[0;34m(\u001b[0m\u001b[0;34m)\u001b[0m\u001b[0;34m\u001b[0m\u001b[0;34m\u001b[0m\u001b[0m\n",
      "\u001b[0;32m~/.local/lib/python3.6/site-packages/pandas/io/parsers.py\u001b[0m in \u001b[0;36mread\u001b[0;34m(self, nrows)\u001b[0m\n\u001b[1;32m   1196\u001b[0m     \u001b[0;32mdef\u001b[0m \u001b[0mread\u001b[0m\u001b[0;34m(\u001b[0m\u001b[0mself\u001b[0m\u001b[0;34m,\u001b[0m \u001b[0mnrows\u001b[0m\u001b[0;34m=\u001b[0m\u001b[0;32mNone\u001b[0m\u001b[0;34m)\u001b[0m\u001b[0;34m:\u001b[0m\u001b[0;34m\u001b[0m\u001b[0;34m\u001b[0m\u001b[0m\n\u001b[1;32m   1197\u001b[0m         \u001b[0mnrows\u001b[0m \u001b[0;34m=\u001b[0m \u001b[0m_validate_integer\u001b[0m\u001b[0;34m(\u001b[0m\u001b[0;34m\"nrows\"\u001b[0m\u001b[0;34m,\u001b[0m \u001b[0mnrows\u001b[0m\u001b[0;34m)\u001b[0m\u001b[0;34m\u001b[0m\u001b[0;34m\u001b[0m\u001b[0m\n\u001b[0;32m-> 1198\u001b[0;31m         \u001b[0mret\u001b[0m \u001b[0;34m=\u001b[0m \u001b[0mself\u001b[0m\u001b[0;34m.\u001b[0m\u001b[0m_engine\u001b[0m\u001b[0;34m.\u001b[0m\u001b[0mread\u001b[0m\u001b[0;34m(\u001b[0m\u001b[0mnrows\u001b[0m\u001b[0;34m)\u001b[0m\u001b[0;34m\u001b[0m\u001b[0;34m\u001b[0m\u001b[0m\n\u001b[0m\u001b[1;32m   1199\u001b[0m \u001b[0;34m\u001b[0m\u001b[0m\n\u001b[1;32m   1200\u001b[0m         \u001b[0;31m# May alter columns / col_dict\u001b[0m\u001b[0;34m\u001b[0m\u001b[0;34m\u001b[0m\u001b[0;34m\u001b[0m\u001b[0m\n",
      "\u001b[0;32m~/.local/lib/python3.6/site-packages/pandas/io/parsers.py\u001b[0m in \u001b[0;36mread\u001b[0;34m(self, nrows)\u001b[0m\n\u001b[1;32m   2155\u001b[0m     \u001b[0;32mdef\u001b[0m \u001b[0mread\u001b[0m\u001b[0;34m(\u001b[0m\u001b[0mself\u001b[0m\u001b[0;34m,\u001b[0m \u001b[0mnrows\u001b[0m\u001b[0;34m=\u001b[0m\u001b[0;32mNone\u001b[0m\u001b[0;34m)\u001b[0m\u001b[0;34m:\u001b[0m\u001b[0;34m\u001b[0m\u001b[0;34m\u001b[0m\u001b[0m\n\u001b[1;32m   2156\u001b[0m         \u001b[0;32mtry\u001b[0m\u001b[0;34m:\u001b[0m\u001b[0;34m\u001b[0m\u001b[0;34m\u001b[0m\u001b[0m\n\u001b[0;32m-> 2157\u001b[0;31m             \u001b[0mdata\u001b[0m \u001b[0;34m=\u001b[0m \u001b[0mself\u001b[0m\u001b[0;34m.\u001b[0m\u001b[0m_reader\u001b[0m\u001b[0;34m.\u001b[0m\u001b[0mread\u001b[0m\u001b[0;34m(\u001b[0m\u001b[0mnrows\u001b[0m\u001b[0;34m)\u001b[0m\u001b[0;34m\u001b[0m\u001b[0;34m\u001b[0m\u001b[0m\n\u001b[0m\u001b[1;32m   2158\u001b[0m         \u001b[0;32mexcept\u001b[0m \u001b[0mStopIteration\u001b[0m\u001b[0;34m:\u001b[0m\u001b[0;34m\u001b[0m\u001b[0;34m\u001b[0m\u001b[0m\n\u001b[1;32m   2159\u001b[0m             \u001b[0;32mif\u001b[0m \u001b[0mself\u001b[0m\u001b[0;34m.\u001b[0m\u001b[0m_first_chunk\u001b[0m\u001b[0;34m:\u001b[0m\u001b[0;34m\u001b[0m\u001b[0;34m\u001b[0m\u001b[0m\n",
      "\u001b[0;32mpandas/_libs/parsers.pyx\u001b[0m in \u001b[0;36mpandas._libs.parsers.TextReader.read\u001b[0;34m()\u001b[0m\n",
      "\u001b[0;32mpandas/_libs/parsers.pyx\u001b[0m in \u001b[0;36mpandas._libs.parsers.TextReader._read_low_memory\u001b[0;34m()\u001b[0m\n",
      "\u001b[0;32mpandas/_libs/parsers.pyx\u001b[0m in \u001b[0;36mpandas._libs.parsers.TextReader._read_rows\u001b[0;34m()\u001b[0m\n",
      "\u001b[0;32mpandas/_libs/parsers.pyx\u001b[0m in \u001b[0;36mpandas._libs.parsers.TextReader._tokenize_rows\u001b[0;34m()\u001b[0m\n",
      "\u001b[0;32mpandas/_libs/parsers.pyx\u001b[0m in \u001b[0;36mpandas._libs.parsers.raise_parser_error\u001b[0;34m()\u001b[0m\n",
      "\u001b[0;31mParserError\u001b[0m: Error tokenizing data. C error: Expected 2 fields in line 3, saw 12\n"
     ]
    }
   ],
   "source": [
    "\n",
    "n_wheels = 5\n",
    "animals = ['1730', '1734', '1736', '1743', '1744', '1745', '1746', '1747']\n",
    "filename = '/home/zow/LocoBox/Prev_locobox_data/BOX1-5-20220719.txt'\n",
    "data, t = import_data(filename, n_wheels)\n",
    "plot_actogram(data, t, n_wheels, animals)"
   ]
  },
  {
   "cell_type": "code",
   "execution_count": 2,
   "metadata": {},
   "outputs": [],
   "source": [
    "style.use('seaborn-colorblind')\n",
    "\n",
    "pd.set_option(\"display.max_rows\", None)\n"
   ]
  },
  {
   "cell_type": "code",
   "execution_count": 3,
   "metadata": {},
   "outputs": [],
   "source": [
    "\n",
    "\n",
    "box = 'BOX2'\n",
    "pir = 'PIR02'\n",
    "led = 'LED02'\n",
    "\n",
    "filename = '/home/zow/LocoBox/actogram/BOX1-3-20181018.txt'\n"
   ]
  },
  {
   "cell_type": "code",
   "execution_count": 5,
   "metadata": {},
   "outputs": [
    {
     "name": "stderr",
     "output_type": "stream",
     "text": [
      "/home/zow/anaconda3/envs/locobox/lib/python3.7/site-packages/ipykernel_launcher.py:97: UserWarning: FixedFormatter should only be used together with FixedLocator\n",
      "/home/zow/anaconda3/envs/locobox/lib/python3.7/site-packages/ipykernel_launcher.py:97: UserWarning: FixedFormatter should only be used together with FixedLocator\n",
      "/home/zow/anaconda3/envs/locobox/lib/python3.7/site-packages/ipykernel_launcher.py:97: UserWarning: FixedFormatter should only be used together with FixedLocator\n",
      "/home/zow/anaconda3/envs/locobox/lib/python3.7/site-packages/ipykernel_launcher.py:97: UserWarning: FixedFormatter should only be used together with FixedLocator\n",
      "/home/zow/anaconda3/envs/locobox/lib/python3.7/site-packages/ipykernel_launcher.py:97: UserWarning: FixedFormatter should only be used together with FixedLocator\n",
      "/home/zow/anaconda3/envs/locobox/lib/python3.7/site-packages/ipykernel_launcher.py:97: UserWarning: FixedFormatter should only be used together with FixedLocator\n",
      "/home/zow/anaconda3/envs/locobox/lib/python3.7/site-packages/ipykernel_launcher.py:97: UserWarning: FixedFormatter should only be used together with FixedLocator\n",
      "/home/zow/anaconda3/envs/locobox/lib/python3.7/site-packages/ipykernel_launcher.py:97: UserWarning: FixedFormatter should only be used together with FixedLocator\n",
      "/home/zow/anaconda3/envs/locobox/lib/python3.7/site-packages/ipykernel_launcher.py:97: UserWarning: FixedFormatter should only be used together with FixedLocator\n",
      "/home/zow/anaconda3/envs/locobox/lib/python3.7/site-packages/ipykernel_launcher.py:97: UserWarning: FixedFormatter should only be used together with FixedLocator\n",
      "/home/zow/anaconda3/envs/locobox/lib/python3.7/site-packages/ipykernel_launcher.py:97: UserWarning: FixedFormatter should only be used together with FixedLocator\n",
      "/home/zow/anaconda3/envs/locobox/lib/python3.7/site-packages/ipykernel_launcher.py:97: UserWarning: FixedFormatter should only be used together with FixedLocator\n",
      "/home/zow/anaconda3/envs/locobox/lib/python3.7/site-packages/ipykernel_launcher.py:97: UserWarning: FixedFormatter should only be used together with FixedLocator\n"
     ]
    },
    {
     "data": {
      "image/png": "[encoded data removed]",
      "text/plain": [
       "<Figure size 309.6x187.2 with 26 Axes>"
      ]
     },
     "metadata": {
      "needs_background": "light"
     },
     "output_type": "display_data"
    }
   ],
   "source": [
    "\n",
    "\n",
    "\n",
    "\n",
    "    \n",
    "\n",
    "df = pd.read_table(filename, sep='\\s+',\n",
    "                skiprows=23, index_col=None)\n",
    "df.index = pd.to_datetime(df['MO/DY/YEAR']+' ' + df['HH:MM:SS'],\n",
    "                        format=\"%m/%d/%Y %H:%M:%S\")\n",
    "df0 = pd.DataFrame(\n",
    "    {'HH:MM:SS': ['00:00:00'],  'MO/DY/YEAR':  [df['MO/DY/YEAR'][0]],\n",
    "    'LED01': [0], 'PIR01': [0], 'LED02': [0], 'PIR02': [0], 'LED03': [0], 'PIR03': [0], 'LED04': [0], 'PIR04': [0], 'LED05': [0], 'PIR05': [0], 'LED06': [0], 'PIR06': [0], 'LED07': [0], 'PIR07': [0], 'LED08': [0], 'PIR08': [0], 'LED09': [0], 'PIR09': [0], 'LED10': [0], 'PIR10': [0]\n",
    "    })\n",
    "df0.index = pd.to_datetime(df0['MO/DY/YEAR']+' ' + df0['HH:MM:SS'],\n",
    "                        format=\"%m/%d/%Y %H:%M:%S\")\n",
    "\n",
    "#df0 = df0.groupby(np.arange(len(df0))//60).mean() \n",
    "\n",
    "df1 = pd.DataFrame(\n",
    "    {'HH:MM:SS': df['HH:MM:SS'][0],  'MO/DY/YEAR':  [df['MO/DY/YEAR'][0]],\n",
    "    'LED01': [0], 'PIR01': [0], 'LED02': [0], 'PIR02': [0], 'LED03': [0], 'PIR03': [0], 'LED04': [0], 'PIR04': [0], 'LED05': [0], 'PIR05': [0], 'LED06': [0], 'PIR06': [0], 'LED07': [0], 'PIR07': [0], 'LED08': [0], 'PIR08': [0], 'LED09': [0], 'PIR09': [0], 'LED10': [0], 'PIR10': [0]\n",
    "    })\n",
    "df1.index = pd.to_datetime(df1['MO/DY/YEAR']+' ' + df1['HH:MM:SS'],\n",
    "                        format=\"%m/%d/%Y %H:%M:%S\")\n",
    "# df1.index.set_value(df1.index, df1.index[0], pd.Timestamp(\n",
    "#     df1.index.date[0].year, df1.index.date[0].month, df1.index.date[0].day, df1.index.time[0].hour, df1.index.time[0].minute-1, df1.index.time[0].second))\n",
    "\n",
    "#df1 = df1.groupby(np.arange(len(df1))//60).mean() \n",
    "\n",
    "df2 = pd.DataFrame(\n",
    "    {'HH:MM:SS': ['00:00:00'],  'MO/DY/YEAR':  [df['MO/DY/YEAR'][-1]],\n",
    "    'LED01': [0], 'PIR01': [0], 'LED02': [0], 'PIR02': [0], 'LED03': [0], 'PIR03': [0], 'LED04': [0], 'PIR04': [0], 'LED05': [0], 'PIR05': [0], 'LED06': [0], 'PIR06': [0], 'LED07': [0], 'PIR07': [0], 'LED08': [0], 'PIR08': [0], 'LED09': [0], 'PIR09': [0], 'LED10': [0], 'PIR10': [0]\n",
    "    })\n",
    "df2.index = pd.to_datetime(df2['MO/DY/YEAR']+' ' + df2['HH:MM:SS'],\n",
    "                        format=\"%m/%d/%Y %H:%M:%S\")\n",
    "# df2.index.set_value(df2.index, df2.index[0], pd.Timestamp(\n",
    "#     df2.index.date[0].year, df2.index.date[0].month, df2.index.date[0].day, 23, 59, 0))\n",
    "\n",
    "#df2 = df2.groupby(np.arange(len(df2))//60).mean() \n",
    "\n",
    "df3 = pd.DataFrame(\n",
    "    {'HH:MM:SS': df['HH:MM:SS'][-1],  'MO/DY/YEAR':  [df['MO/DY/YEAR'][-1]],\n",
    "    'LED01': [0], 'PIR01': [0], 'LED02': [0], 'PIR02': [0], 'LED03': [0], 'PIR03': [0], 'LED04': [0], 'PIR04': [0], 'LED05': [0], 'PIR05': [0], 'LED06': [0], 'PIR06': [0], 'LED07': [0], 'PIR07': [0], 'LED08': [0], 'PIR08': [0], 'LED09': [0], 'PIR09': [0], 'LED10': [0], 'PIR10': [0]\n",
    "    })\n",
    "df3.index = pd.to_datetime(df3['MO/DY/YEAR']+' ' + df3['HH:MM:SS'],\n",
    "                        format=\"%m/%d/%Y %H:%M:%S\")\n",
    "# df3.index.set_value(df3.index, df3.index[0], pd.Timestamp(\n",
    "#     df3.index.date[0].year, df3.index.date[0].month, df3.index.date[0].day, df3.index.time[0].hour, df3.index.time[0].minute+1, df3.index.time[0].second))\n",
    "\n",
    "#df3 = df3.groupby(np.arange(len(df3))//60).mean() \n",
    "\n",
    "\n",
    "df = pd.concat([df0, df1, df, df3, df2])\n",
    "#df = df.groupby(np.arange(len(df))//60).mean() \n",
    "dategroup = df.groupby(pd.Grouper(freq='D'))\n",
    "\n",
    "\n",
    "k = 0\n",
    "df2 = pd.DataFrame()\n",
    "for name, group in dategroup:\n",
    "    if k >= 1:\n",
    "        a = group\n",
    "        df2 = pd.concat([df2, a], axis=0)\n",
    "    k = k+1\n",
    "\n",
    "# Remove the marginsclear\n",
    "dategroup2 = df2.groupby(pd.Grouper(freq='D'))\n",
    "plt.rcParams['axes.autolimit_mode'] = 'round_numbers'\n",
    "plt.rcParams['axes.xmargin'] = 0.\n",
    "plt.rcParams['axes.ymargin'] = 0.1\n",
    "#plt.rcParams['xtick.direction'] = 'out'\n",
    "plt.rcParams['axes.linewidth'] = 0.5 # axis thickness\n",
    "plt.rcParams['font.family'] = ['sans serif']\n",
    "plt.rcParams['font.size'] = 10\n",
    "\n",
    "n_group = dategroup.ngroups\n",
    "\n",
    "fig, axes = plt.subplots(nrows=n_group, ncols=2)\n",
    "\n",
    "# Half-opaque grayscale colormap \n",
    "# by Bart https://stackoverflow.com/questions/37327308/add-alpha-to-an-existing-matplotlib-colormap\n",
    "cmap = plt.cm.gray\n",
    "my_cmap = cmap(np.arange(cmap.N))\n",
    "my_cmap[:,-1] = np.linspace(0.2, 1, cmap.N)\n",
    "my_cmap = ListedColormap(my_cmap)\n",
    "\n",
    "# scale to 1000 if max PIR is 60\n",
    "scale = 1000/max(group[pir])\n",
    "\n",
    "# Double-plot actogram\n",
    "# Plot the 1st column\n",
    "j = 0\n",
    "for name, group in dategroup:\n",
    "    \n",
    "    labels = [0, 3, 6, 9, 12, 15, 18, 21, 24, 27, 30, 33, 36, 39, 42, 45, 48]\n",
    "    (group[pir]*scale).plot.area(ax=axes[j, 0], sharey=True, cmap='gray', figsize=(4.5, 0.2*n_group))\n",
    "    ((1-group[led])*800).plot.area(linewidth=0, ax=axes[j, 0],\n",
    "                            cmap=my_cmap, sharey=True)\n",
    "    axes[j, 0].axes.set_yticklabels([])\n",
    "    axes[j, 0].axes.set_yticks([])\n",
    "    #axes[j, 0].axes.set_xticks(range(1,18))\n",
    "    axes[j, 0].axes.set_xticklabels(labels, rotation=0, size=8.5)\n",
    "    axes[j, 0].axes.set_ylim(1,800)\n",
    "    axes[j, 0].axes.set_xlabel('Hour of day', rotation=0, size=8.5)\n",
    "    axes[j, 0].axes.set_ylabel(\n",
    "        str(group[pir].index.date[0].month) + '/' + str(group[pir].index.date[0].day) + ' ', rotation=0, size=9)\n",
    "    axes[j, 0].yaxis.set_label_coords(-0.125,0.0)\n",
    "    if j < n_group-1:\n",
    "        x_axis = axes[j, 0].axes.get_xaxis()\n",
    "        x_axis.set_visible(False)\n",
    "    j = j+1\n",
    "# Plot the 2nd column\n",
    "i = 0\n",
    "for name, group in dategroup2:\n",
    "    (group[pir]*scale).plot.area(ax=axes[i, 1], sharey=True, cmap='gray', figsize=(4.3, 0.2*n_group))\n",
    "    ((1-group[led])*800).plot.area(linewidth=0,\n",
    "                            cmap=my_cmap, ax=axes[i, 1], sharey=True)\n",
    "    x_axis = axes[i, 1].axes.get_xaxis()\n",
    "    x_axis.set_visible(False)\n",
    "    axes[i, 1].axes.set_ylim(1,800)\n",
    "    y_axis = axes[i, 1].axes.get_yaxis()\n",
    "    y_axis.set_visible(False)\n",
    "    i = i+1\n",
    "\n",
    "fig.subplots_adjust(left=0.12, right=0.9, bottom=0.3, wspace=0, hspace=0)\n",
    "plt.axis('off')\n",
    "plt.suptitle(box, size=9)\n",
    "#plt.savefig(box+'.png')\n",
    "plt.show()\n",
    "\n",
    "\n",
    "\n"
   ]
  }
 ],
 "metadata": {
  "kernelspec": {
   "display_name": "Python 3.7.13 ('locobox')",
   "language": "python",
   "name": "python3"
  },
  "language_info": {
   "codemirror_mode": {
    "name": "ipython",
    "version": 3
   },
   "file_extension": ".py",
   "mimetype": "text/x-python",
   "name": "python",
   "nbconvert_exporter": "python",
   "pygments_lexer": "ipython3",
   "version": "3.7.13"
  },
  "orig_nbformat": 4,
  "vscode": {
   "interpreter": {
    "hash": "f8c55852af0ffc06e79550b42022e8dacb21984095fd1499f08aaf4471aeef68"
   }
  }
 },
 "nbformat": 4,
 "nbformat_minor": 2
}
