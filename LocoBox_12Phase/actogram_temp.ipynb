{
 "cells": [
  {
   "cell_type": "code",
   "execution_count": 1,
   "metadata": {},
   "outputs": [],
   "source": [
    "import csv\n",
    "import numpy as np\n",
    "import matplotlib.pylab as plt\n",
    "import matplotlib\n",
    "from datetime import datetime\n"
   ]
  },
  {
   "cell_type": "code",
   "execution_count": 2,
   "metadata": {},
   "outputs": [],
   "source": [
    "def import_data(filename, n_wheels):\n",
    "    with open(filename) as fh:\n",
    "        reader = csv.reader(fh, delimiter='\\t')\n",
    "        rows = [[r[0]] + list(map(int, r[1:])) for r in reader]\n",
    "\n",
    "    data = np.zeros((len(rows), n_wheels))\n",
    "    for i, row in enumerate(rows):\n",
    "        data[i, :] = row[1:1 + n_wheels]\n",
    "    return data.T, [r[0] for r in rows]\n",
    "\n",
    "\n",
    "def plot_actogram(data, times, n_wheels, animals):\n",
    "    if n_wheels != len(animals):\n",
    "        raise Exception(\"Animals doesn't match n_wheels\")\n",
    "\n",
    "    N, T = data.shape\n",
    "    data /= np.max(data)\n",
    "    times = [datetime.strptime(t, '%m/%d/%y %H:%M') for t in times]\n",
    "    times = matplotlib.dates.date2num(times)\n",
    "\n",
    "    fig = plt.figure()\n",
    "    ax = fig.add_subplot(1, 1, 1)\n",
    "    for i in range(N):\n",
    "        d = data[i, :] != 0\n",
    "        plt.plot_date(times[d], data[i, d] + i, '.', markersize=2, xdate=True)\n",
    "\n",
    "    plt.grid(which='both')\n",
    "\n",
    "    major_ticks = np.arange(8) + .25\n",
    "    minor_ticks = np.arange(32) * .25\n",
    "    ax.set_yticks(major_ticks)\n",
    "    ax.set_yticks(minor_ticks, minor=True)\n",
    "    ax.set_yticklabels(animals)\n",
    "    ax.grid(which='minor', alpha=0.4)\n",
    "\n",
    "    vals = ax.get_xticks()\n",
    "    minor = []\n",
    "    for i, val in enumerate(vals):\n",
    "        for t in range(4):\n",
    "            minor.append(val + t / 4.)\n",
    "    ax.set_xticks(minor, minor=True)\n",
    "    ax.grid(which='minor', alpha=0.4)\n",
    "\n",
    "    plt.tight_layout()\n",
    "    plt.show()\n"
   ]
  },
  {
   "cell_type": "code",
   "execution_count": null,
   "metadata": {},
   "outputs": [],
   "source": [
    "\n",
    "if __name__ == '__main__':\n",
    "    n_wheels = 8\n",
    "    animals = ['1730', '1734', '1736', '1743', '1744', '1745', '1746', '1747']\n",
    "    filename = r'E:\\image j text.txt'\n",
    "    data, t = import_data(filename, n_wheels)\n",
    "    plot_actogram(data, t, n_wheels, animals)"
   ]
  }
 ],
 "metadata": {
  "kernelspec": {
   "display_name": "Python 3.6.13 ('idtrackerai')",
   "language": "python",
   "name": "python3"
  },
  "language_info": {
   "codemirror_mode": {
    "name": "ipython",
    "version": 3
   },
   "file_extension": ".py",
   "mimetype": "text/x-python",
   "name": "python",
   "nbconvert_exporter": "python",
   "pygments_lexer": "ipython3",
   "version": "3.6.13"
  },
  "orig_nbformat": 4,
  "vscode": {
   "interpreter": {
    "hash": "1aaa523cab7a157008dced021651afd82a1283c660c45a4cbe53cfb70097fdc5"
   }
  }
 },
 "nbformat": 4,
 "nbformat_minor": 2
}
