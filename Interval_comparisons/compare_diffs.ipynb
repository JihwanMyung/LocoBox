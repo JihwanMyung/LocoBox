{
 "cells": [
  {
   "cell_type": "code",
   "execution_count": 12,
   "metadata": {},
   "outputs": [
    {
     "name": "stderr",
     "output_type": "stream",
     "text": [
      "[nltk_data] Downloading package punkt to /home/zow/nltk_data...\n",
      "[nltk_data]   Unzipping tokenizers/punkt.zip.\n"
     ]
    },
    {
     "data": {
      "text/plain": [
       "True"
      ]
     },
     "execution_count": 12,
     "metadata": {},
     "output_type": "execute_result"
    }
   ],
   "source": [
    "import nltk\n",
    "from datetime import datetime\n",
    "import pandas as pd\n",
    "import os\n",
    "nltk.download('punkt')"
   ]
  },
  {
   "cell_type": "code",
   "execution_count": 24,
   "metadata": {},
   "outputs": [
    {
     "name": "stdout",
     "output_type": "stream",
     "text": [
      "14:58:00\n",
      "14:59:00\n",
      "15:00:00\n",
      "15:01:00\n",
      "15:02:00\n",
      "15:03:00\n",
      "15:04:00\n",
      "15:05:00\n",
      "15:06:00\n",
      "15:07:00\n",
      "15:08:00\n",
      "15:09:00\n",
      "15:10:00\n",
      "15:11:00\n",
      "15:12:00\n",
      "15:13:00\n",
      "15:14:00\n",
      "15:15:00\n",
      "15:16:00\n",
      "15:17:00\n",
      "15:18:00\n",
      "15:19:00\n",
      "15:20:00\n"
     ]
    }
   ],
   "source": [
    "fullpath = '/home/zow/LocoBox/BOX1-5-20220719.txt'\n",
    "filename = 'BOX1-5-20220719.txt'\n",
    "times = []\n",
    "passed = False\n",
    "with open(fullpath) as f:\n",
    "                    \n",
    "            for line in f:\n",
    "\n",
    "                token_line = nltk.word_tokenize(line)\n",
    "                \n",
    "                if token_line == []:\n",
    "                    #next(f)\n",
    "                    pass\n",
    "\n",
    "                elif passed:\n",
    "                    times.append(datetime.strptime(token_line[0], '%H:%M:%S'))\n",
    "                    print(token_line[0])\n",
    "\n",
    "                elif 'HH:MM:SS' in line:\n",
    "                    passed = True\n",
    "                    for _ in range(2):\n",
    "                        #next(f)\n",
    "                        pass\n",
    "                        \n",
    "\n",
    "                elif 'HH:MM:SS' not in token_line:\n",
    "                    #print(token_line[0])\n",
    "                    for _ in range(2):\n",
    "                        #next(f)\n",
    "                        pass\n"
   ]
  },
  {
   "cell_type": "code",
   "execution_count": 21,
   "metadata": {},
   "outputs": [],
   "source": [
    "times1 = times[1:]\n",
    "times2 = times[:-1]\n",
    "\n",
    "intervals = []\n",
    "\n",
    "for a,b in zip(times1, times2):\n",
    "    interv = a-b\n",
    "    intervals.append(pd.Timedelta(interv).total_seconds())\n",
    "\n",
    "\n",
    "\n",
    "irregular_intervals = []\n",
    "for i, interval in enumerate(intervals):\n",
    "    if interval > 60:\n",
    "        irregular_intervals.append((i,interval)) #tuple of the index in the original, interval was 120 for all irregulars\n",
    "        if interval > 120:\n",
    "            print(interval)\n",
    "\n",
    "\n",
    "\n",
    "irr_interval_diffs = []\n",
    "for i in range(len(irregular_intervals)-1):\n",
    "    diff =  irregular_intervals[i+1][0] - irregular_intervals[i][0]\n",
    "    \n",
    "    irr_interval_diffs.append(diff)\n",
    "\n",
    "rawinterval = {'indx_diffe_between_skips': irr_interval_diffs}\n",
    "intdf = pd.DataFrame(rawinterval)\n",
    "filename = filename[:-4]\n",
    "intdf.to_csv(filename +'.csv', index=False)"
   ]
  },
  {
   "cell_type": "code",
   "execution_count": 22,
   "metadata": {},
   "outputs": [],
   "source": [
    "directory = 'Interval_comparisons'\n",
    "\n",
    "#for filename in os.listdir(directory):\n",
    "#filename = 'BOXL1-L5-20210502.csv'\n",
    "filename = 'BOX1-5-2022.csv'\n",
    "csv = pd.read_csv(filename) \n",
    "\n",
    "\n"
   ]
  },
  {
   "cell_type": "code",
   "execution_count": 23,
   "metadata": {},
   "outputs": [
    {
     "name": "stdout",
     "output_type": "stream",
     "text": [
      "[]\n"
     ]
    }
   ],
   "source": [
    "uniq = csv.indx_diffe_between_skips.unique()\n",
    "print(uniq)"
   ]
  },
  {
   "cell_type": "code",
   "execution_count": 19,
   "metadata": {},
   "outputs": [
    {
     "name": "stdout",
     "output_type": "stream",
     "text": [
      "[105 107 109 110 111 112 114 115 116 117 118 119 120 121 122 123 124 125\n",
      " 127 131 143 823 830 832 833 834 847 855 858 863 867 869]\n"
     ]
    }
   ],
   "source": [
    "uniq.sort(axis=0)\n",
    "print(uniq)"
   ]
  }
 ],
 "metadata": {
  "kernelspec": {
   "display_name": "Python 3.7.13 ('locobox')",
   "language": "python",
   "name": "python3"
  },
  "language_info": {
   "codemirror_mode": {
    "name": "ipython",
    "version": 3
   },
   "file_extension": ".py",
   "mimetype": "text/x-python",
   "name": "python",
   "nbconvert_exporter": "python",
   "pygments_lexer": "ipython3",
   "version": "3.7.13"
  },
  "orig_nbformat": 4,
  "vscode": {
   "interpreter": {
    "hash": "f8c55852af0ffc06e79550b42022e8dacb21984095fd1499f08aaf4471aeef68"
   }
  }
 },
 "nbformat": 4,
 "nbformat_minor": 2
}
