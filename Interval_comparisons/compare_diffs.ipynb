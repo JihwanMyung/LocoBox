{
 "cells": [
  {
   "cell_type": "code",
   "execution_count": 1,
   "metadata": {},
   "outputs": [],
   "source": [
    "import nltk\n",
    "from datetime import datetime\n",
    "import pandas as pd\n",
    "import os"
   ]
  },
  {
   "cell_type": "code",
   "execution_count": 5,
   "metadata": {},
   "outputs": [],
   "source": [
    "directory = 'Interval_comparisons'\n",
    "\n",
    "#for filename in os.listdir(directory):\n",
    "#filename = 'BOXL1-L5-20210502.csv'\n",
    "filename = 'BOXL6-L10-20210502.csv'\n",
    "csv = pd.read_csv(filename) \n",
    "\n",
    "\n"
   ]
  },
  {
   "cell_type": "code",
   "execution_count": 21,
   "metadata": {},
   "outputs": [
    {
     "name": "stdout",
     "output_type": "stream",
     "text": [
      "[143 131 114 115 863 122 120 121 858 118 119 867 127 124 869 125 123 855\n",
      " 847 117 110 833 116 112 830 834 105 823 109 107 111 832]\n"
     ]
    }
   ],
   "source": [
    "uniq = csv.indx_diffe_between_skips.unique()\n",
    "print(uniq)"
   ]
  },
  {
   "cell_type": "code",
   "execution_count": 19,
   "metadata": {},
   "outputs": [
    {
     "name": "stdout",
     "output_type": "stream",
     "text": [
      "[105 107 109 110 111 112 114 115 116 117 118 119 120 121 122 123 124 125\n",
      " 127 131 143 823 830 832 833 834 847 855 858 863 867 869]\n"
     ]
    }
   ],
   "source": [
    "uniq.sort(axis=0)\n",
    "print(uniq)"
   ]
  }
 ],
 "metadata": {
  "kernelspec": {
   "display_name": "Python 3.7.13 ('locobox')",
   "language": "python",
   "name": "python3"
  },
  "language_info": {
   "codemirror_mode": {
    "name": "ipython",
    "version": 3
   },
   "file_extension": ".py",
   "mimetype": "text/x-python",
   "name": "python",
   "nbconvert_exporter": "python",
   "pygments_lexer": "ipython3",
   "version": "3.7.13"
  },
  "orig_nbformat": 4,
  "vscode": {
   "interpreter": {
    "hash": "f45e7bc1e15ae57666f4637c31bab35e5da05a12fac0682247e410b1c9b990a1"
   }
  }
 },
 "nbformat": 4,
 "nbformat_minor": 2
}
